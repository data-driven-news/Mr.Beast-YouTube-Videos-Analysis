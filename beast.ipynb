{
 "cells": [
  {
   "cell_type": "markdown",
   "id": "5440943b",
   "metadata": {},
   "source": [
    "# Classifying Mr. Beast YouTube Videos\n",
    "\n",
    "In this project, we will classify Mr. Beast's YouTube videos into specific categories based on their content. The categories we will use are:\n",
    "- **Giving out cash**\n",
    "- **Vs Challeges**\n",
    "- **Challenges**\n",
    "- **Survival**\n",
    "- **Experiments** (for videos that involve extreme scenarios, like \"I Didn’t Eat Food For 30 Days\")\n",
    "- **Giveaways** (for videos specifically about gifting or giving away items, like \"I Built 100 Houses And Gave Them Away!\")\n",
    "- **Contests** (for videos that involve competition without monetary rewards)\n",
    "- **Other** (for videos that don’t fit into the above categories)\n",
    "\n",
    "## Data Loading\n",
    "Let's start by loading the data from the CSV file."
   ]
  },
  {
   "cell_type": "code",
   "execution_count": 1,
   "id": "d735c85d",
   "metadata": {},
   "outputs": [
    {
     "data": {
      "text/html": [
       "<div>\n",
       "<style scoped>\n",
       "    .dataframe tbody tr th:only-of-type {\n",
       "        vertical-align: middle;\n",
       "    }\n",
       "\n",
       "    .dataframe tbody tr th {\n",
       "        vertical-align: top;\n",
       "    }\n",
       "\n",
       "    .dataframe thead th {\n",
       "        text-align: right;\n",
       "    }\n",
       "</style>\n",
       "<table border=\"1\" class=\"dataframe\">\n",
       "  <thead>\n",
       "    <tr style=\"text-align: right;\">\n",
       "      <th></th>\n",
       "      <th>Title</th>\n",
       "      <th>Description</th>\n",
       "      <th>Likes</th>\n",
       "      <th>Comments</th>\n",
       "      <th>Views</th>\n",
       "      <th>URL</th>\n",
       "      <th>Length</th>\n",
       "    </tr>\n",
       "  </thead>\n",
       "  <tbody>\n",
       "    <tr>\n",
       "      <th>0</th>\n",
       "      <td>7 Days Exploring An Underground City</td>\n",
       "      <td>This salt mine is the coolest underground city...</td>\n",
       "      <td>2561697</td>\n",
       "      <td>24777</td>\n",
       "      <td>74099527</td>\n",
       "      <td>https://www.youtube.com/watch?v=bn0Kh9c4Zv4</td>\n",
       "      <td>0:20:35</td>\n",
       "    </tr>\n",
       "    <tr>\n",
       "      <th>1</th>\n",
       "      <td>Men Vs Women Survive The Wilderness For $500,000</td>\n",
       "      <td>Some of these strategies were wild!\\nWet thing...</td>\n",
       "      <td>3587387</td>\n",
       "      <td>48047</td>\n",
       "      <td>119064843</td>\n",
       "      <td>https://www.youtube.com/watch?v=aRcUVhVlSHg</td>\n",
       "      <td>0:31:47</td>\n",
       "    </tr>\n",
       "    <tr>\n",
       "      <th>2</th>\n",
       "      <td>7 Days Stranded In A Cave</td>\n",
       "      <td>I didn’t think surviving in a cave would be th...</td>\n",
       "      <td>4231120</td>\n",
       "      <td>96130</td>\n",
       "      <td>122136852</td>\n",
       "      <td>https://www.youtube.com/watch?v=ndAQfTzlVjc</td>\n",
       "      <td>0:17:58</td>\n",
       "    </tr>\n",
       "    <tr>\n",
       "      <th>3</th>\n",
       "      <td>Survive 100 Days In Nuclear Bunker, Win $500,000</td>\n",
       "      <td>This video was really fun to make, I hope you ...</td>\n",
       "      <td>5361910</td>\n",
       "      <td>85548</td>\n",
       "      <td>200366321</td>\n",
       "      <td>https://www.youtube.com/watch?v=UPrkC1LdlLY</td>\n",
       "      <td>0:32:20</td>\n",
       "    </tr>\n",
       "    <tr>\n",
       "      <th>4</th>\n",
       "      <td>50 YouTubers Fight For $1,000,000</td>\n",
       "      <td>I can’t believe how intense this video got\\nTh...</td>\n",
       "      <td>8771975</td>\n",
       "      <td>350874</td>\n",
       "      <td>260992579</td>\n",
       "      <td>https://www.youtube.com/watch?v=4SNThp0YiU4</td>\n",
       "      <td>0:41:27</td>\n",
       "    </tr>\n",
       "  </tbody>\n",
       "</table>\n",
       "</div>"
      ],
      "text/plain": [
       "                                              Title  \\\n",
       "0              7 Days Exploring An Underground City   \n",
       "1  Men Vs Women Survive The Wilderness For $500,000   \n",
       "2                         7 Days Stranded In A Cave   \n",
       "3  Survive 100 Days In Nuclear Bunker, Win $500,000   \n",
       "4                 50 YouTubers Fight For $1,000,000   \n",
       "\n",
       "                                         Description    Likes  Comments  \\\n",
       "0  This salt mine is the coolest underground city...  2561697     24777   \n",
       "1  Some of these strategies were wild!\\nWet thing...  3587387     48047   \n",
       "2  I didn’t think surviving in a cave would be th...  4231120     96130   \n",
       "3  This video was really fun to make, I hope you ...  5361910     85548   \n",
       "4  I can’t believe how intense this video got\\nTh...  8771975    350874   \n",
       "\n",
       "       Views                                          URL   Length  \n",
       "0   74099527  https://www.youtube.com/watch?v=bn0Kh9c4Zv4  0:20:35  \n",
       "1  119064843  https://www.youtube.com/watch?v=aRcUVhVlSHg  0:31:47  \n",
       "2  122136852  https://www.youtube.com/watch?v=ndAQfTzlVjc  0:17:58  \n",
       "3  200366321  https://www.youtube.com/watch?v=UPrkC1LdlLY  0:32:20  \n",
       "4  260992579  https://www.youtube.com/watch?v=4SNThp0YiU4  0:41:27  "
      ]
     },
     "execution_count": 1,
     "metadata": {},
     "output_type": "execute_result"
    }
   ],
   "source": [
    "import pandas as pd\n",
    "\n",
    "# Load the data\n",
    "df = pd.read_csv('mrbeast_videos1.csv')\n",
    "\n",
    "# Display the first few rows of the dataframe\n",
    "df.head()\n"
   ]
  },
  {
   "cell_type": "markdown",
   "id": "7a401e95",
   "metadata": {},
   "source": [
    "## Data Exploration\n",
    "Now, let's explore the dataset to understand its structure and contents.\n"
   ]
  },
  {
   "cell_type": "code",
   "execution_count": 2,
   "id": "6a4e9268",
   "metadata": {},
   "outputs": [
    {
     "data": {
      "text/plain": [
       "((68, 7),\n",
       " Index(['Title', 'Description', 'Likes', 'Comments', 'Views', 'URL', 'Length'], dtype='object'))"
      ]
     },
     "execution_count": 2,
     "metadata": {},
     "output_type": "execute_result"
    }
   ],
   "source": [
    "# Display the shape and columns of the dataframe\n",
    "df.shape, df.columns"
   ]
  },
  {
   "cell_type": "markdown",
   "id": "e41089d6",
   "metadata": {},
   "source": [
    "## Data Preprocessing\n",
    "We will need to preprocess the data, particularly the 'Title' and 'Description' columns, to prepare them for classification. This may involve text cleaning, tokenization and more.\n",
    "\n",
    "Let's define a function to clean the text.\n"
   ]
  },
  {
   "cell_type": "code",
   "execution_count": 3,
   "id": "e07d51fd",
   "metadata": {},
   "outputs": [
    {
     "data": {
      "text/html": [
       "<div>\n",
       "<style scoped>\n",
       "    .dataframe tbody tr th:only-of-type {\n",
       "        vertical-align: middle;\n",
       "    }\n",
       "\n",
       "    .dataframe tbody tr th {\n",
       "        vertical-align: top;\n",
       "    }\n",
       "\n",
       "    .dataframe thead th {\n",
       "        text-align: right;\n",
       "    }\n",
       "</style>\n",
       "<table border=\"1\" class=\"dataframe\">\n",
       "  <thead>\n",
       "    <tr style=\"text-align: right;\">\n",
       "      <th></th>\n",
       "      <th>Cleaned_Title</th>\n",
       "      <th>Cleaned_Description</th>\n",
       "    </tr>\n",
       "  </thead>\n",
       "  <tbody>\n",
       "    <tr>\n",
       "      <th>0</th>\n",
       "      <td>7 Days Exploring An Underground City</td>\n",
       "      <td>This salt mine is the coolest underground city...</td>\n",
       "    </tr>\n",
       "    <tr>\n",
       "      <th>1</th>\n",
       "      <td>Men Vs Women Survive The Wilderness For 500000</td>\n",
       "      <td>Some of these strategies were wild Wet things ...</td>\n",
       "    </tr>\n",
       "    <tr>\n",
       "      <th>2</th>\n",
       "      <td>7 Days Stranded In A Cave</td>\n",
       "      <td>I didnt think surviving in a cave would be tha...</td>\n",
       "    </tr>\n",
       "    <tr>\n",
       "      <th>3</th>\n",
       "      <td>Survive 100 Days In Nuclear Bunker Win 500000</td>\n",
       "      <td>This video was really fun to make I hope you e...</td>\n",
       "    </tr>\n",
       "    <tr>\n",
       "      <th>4</th>\n",
       "      <td>50 YouTubers Fight For 1000000</td>\n",
       "      <td>I cant believe how intense this video got The ...</td>\n",
       "    </tr>\n",
       "  </tbody>\n",
       "</table>\n",
       "</div>"
      ],
      "text/plain": [
       "                                    Cleaned_Title  \\\n",
       "0            7 Days Exploring An Underground City   \n",
       "1  Men Vs Women Survive The Wilderness For 500000   \n",
       "2                       7 Days Stranded In A Cave   \n",
       "3   Survive 100 Days In Nuclear Bunker Win 500000   \n",
       "4                  50 YouTubers Fight For 1000000   \n",
       "\n",
       "                                 Cleaned_Description  \n",
       "0  This salt mine is the coolest underground city...  \n",
       "1  Some of these strategies were wild Wet things ...  \n",
       "2  I didnt think surviving in a cave would be tha...  \n",
       "3  This video was really fun to make I hope you e...  \n",
       "4  I cant believe how intense this video got The ...  "
      ]
     },
     "execution_count": 3,
     "metadata": {},
     "output_type": "execute_result"
    }
   ],
   "source": [
    "import re\n",
    "\n",
    "def clean_text(text):\n",
    "    \"\"\"Clean the input text by removing special characters and extra spaces.\"\"\"\n",
    "    text = re.sub(r'[^a-zA-Z0-9\\s]', '', text)  # Remove punctuation\n",
    "    text = re.sub(r'\\s+', ' ', text).strip()    # Remove extra spaces\n",
    "    return text\n",
    "\n",
    "# Apply the cleaning function to the Title and Description\n",
    "df['Cleaned_Title'] = df['Title'].apply(clean_text)\n",
    "df['Cleaned_Description'] = df['Description'].apply(clean_text)\n",
    "\n",
    "# Display the cleaned data\n",
    "df[['Cleaned_Title', 'Cleaned_Description']].head()\n"
   ]
  },
  {
   "cell_type": "markdown",
   "id": "6bd45057",
   "metadata": {},
   "source": [
    "## Classification Logic\n",
    "We will classify the videos based on keywords in the cleaned titles and descriptions. Let's define a function to classify the videos.\n"
   ]
  },
  {
   "cell_type": "code",
   "execution_count": 27,
   "id": "32a1c600",
   "metadata": {},
   "outputs": [
    {
     "data": {
      "text/html": [
       "<div>\n",
       "<style scoped>\n",
       "    .dataframe tbody tr th:only-of-type {\n",
       "        vertical-align: middle;\n",
       "    }\n",
       "\n",
       "    .dataframe tbody tr th {\n",
       "        vertical-align: top;\n",
       "    }\n",
       "\n",
       "    .dataframe thead th {\n",
       "        text-align: right;\n",
       "    }\n",
       "</style>\n",
       "<table border=\"1\" class=\"dataframe\">\n",
       "  <thead>\n",
       "    <tr style=\"text-align: right;\">\n",
       "      <th></th>\n",
       "      <th>Title</th>\n",
       "      <th>Category</th>\n",
       "    </tr>\n",
       "  </thead>\n",
       "  <tbody>\n",
       "    <tr>\n",
       "      <th>0</th>\n",
       "      <td>7 Days Exploring An Underground City</td>\n",
       "      <td>Survival</td>\n",
       "    </tr>\n",
       "    <tr>\n",
       "      <th>1</th>\n",
       "      <td>Men Vs Women Survive The Wilderness For $500,000</td>\n",
       "      <td>Vs Challenge</td>\n",
       "    </tr>\n",
       "    <tr>\n",
       "      <th>2</th>\n",
       "      <td>7 Days Stranded In A Cave</td>\n",
       "      <td>Survival</td>\n",
       "    </tr>\n",
       "    <tr>\n",
       "      <th>3</th>\n",
       "      <td>Survive 100 Days In Nuclear Bunker, Win $500,000</td>\n",
       "      <td>Challenges</td>\n",
       "    </tr>\n",
       "    <tr>\n",
       "      <th>4</th>\n",
       "      <td>50 YouTubers Fight For $1,000,000</td>\n",
       "      <td>Other</td>\n",
       "    </tr>\n",
       "  </tbody>\n",
       "</table>\n",
       "</div>"
      ],
      "text/plain": [
       "                                              Title      Category\n",
       "0              7 Days Exploring An Underground City      Survival\n",
       "1  Men Vs Women Survive The Wilderness For $500,000  Vs Challenge\n",
       "2                         7 Days Stranded In A Cave      Survival\n",
       "3  Survive 100 Days In Nuclear Bunker, Win $500,000    Challenges\n",
       "4                 50 YouTubers Fight For $1,000,000         Other"
      ]
     },
     "execution_count": 27,
     "metadata": {},
     "output_type": "execute_result"
    }
   ],
   "source": [
    "def classify_video(title, description):\n",
    "    \"\"\"Classify the video based on title and description.\"\"\"\n",
    "    title = title.lower()\n",
    "    description = description.lower()\n",
    "\n",
    "    # Check for \"vs\" scenarios\n",
    "    if 'vs' in title or 'vs' in description:\n",
    "        return 'Vs Challenge'\n",
    "    \n",
    "    # Keyword-based classification for cash giveaways\n",
    "    if any(keyword in title or keyword in description for keyword in [\n",
    "        'cash', 'win money', 'cash prize', 'giveaway', 'contest', 'prize money', '$']):\n",
    "        return 'Giving Out Cash'\n",
    "    \n",
    "    elif any(keyword in title or keyword in description for keyword in [\n",
    "        'challenge', 'challenges', 'extreme hide and seek', 'last to leave', 'last to stop', 'protect']):\n",
    "        return 'Challenges'\n",
    "    \n",
    "    # Survival classification\n",
    "    elif any(keyword in title or keyword in description for keyword in [\n",
    "        'survive', 'survival', 'stranded', 'day', 'days', 'hours']):\n",
    "        return 'Survival'\n",
    "    \n",
    "    elif any(keyword in title or keyword in description for keyword in [\n",
    "        'built', 'made', 'experiment', 'test']):\n",
    "        return 'Experiments'\n",
    "    \n",
    "    elif 'giveaway' in title or 'giveaway' in description:\n",
    "        return 'Giveaways'\n",
    "    \n",
    "    elif 'contest' in title or 'competition' in description:\n",
    "        return 'Contests'\n",
    "    \n",
    "    else:\n",
    "        return 'Other'\n",
    "\n",
    "# Apply the classification function\n",
    "df['Category'] = df.apply(lambda row: classify_video(row['Cleaned_Title'], row['Cleaned_Description']), axis=1)\n",
    "\n",
    "# Display the categorized data\n",
    "df[['Title', 'Category']].head()\n"
   ]
  },
  {
   "cell_type": "markdown",
   "id": "78972fae",
   "metadata": {},
   "source": [
    "## Results\n",
    "Let's look at the distribution of the categories."
   ]
  },
  {
   "cell_type": "code",
   "execution_count": 28,
   "id": "bb5bc654",
   "metadata": {},
   "outputs": [
    {
     "data": {
      "image/png": "[encoded data removed]",
      "text/plain": [
       "<Figure size 1000x600 with 1 Axes>"
      ]
     },
     "metadata": {},
     "output_type": "display_data"
    }
   ],
   "source": [
    "# Count the occurrences of each category\n",
    "category_counts = df['Category'].value_counts()\n",
    "\n",
    "# Plotting the results\n",
    "import matplotlib.pyplot as plt\n",
    "\n",
    "plt.figure(figsize=(10, 6))\n",
    "category_counts.plot(kind='bar')\n",
    "plt.title('Distribution of Video Categories')\n",
    "plt.xlabel('Category')\n",
    "plt.ylabel('Number of Videos')\n",
    "plt.xticks(rotation=45)\n",
    "plt.show()\n"
   ]
  },
  {
   "cell_type": "markdown",
   "id": "8817df17",
   "metadata": {},
   "source": [
    "## Text Classification\n",
    "Next, we will preprocess video titles and descriptions and use a text classification model to categorize videos into the defined categories.\n",
    "\n",
    "### Data Preprocessing for Text Classification"
   ]
  },
  {
   "cell_type": "code",
   "execution_count": 29,
   "id": "a069d032",
   "metadata": {},
   "outputs": [],
   "source": [
    "from sklearn.model_selection import train_test_split\n",
    "from sklearn.feature_extraction.text import CountVectorizer\n",
    "\n",
    "# Splitting the data into training and testing sets\n",
    "X = df['Cleaned_Title'] + \" \" + df['Cleaned_Description']\n",
    "y = df['Category']\n",
    "X_train, X_test, y_train, y_test = train_test_split(X, y, test_size=0.2, random_state=42)\n",
    "\n",
    "# Vectorizing the text data\n",
    "vectorizer = CountVectorizer(stop_words='english')\n",
    "X_train_vectorized = vectorizer.fit_transform(X_train)\n",
    "X_test_vectorized = vectorizer.transform(X_test)\n"
   ]
  },
  {
   "cell_type": "markdown",
   "id": "68493f62",
   "metadata": {},
   "source": [
    "### Training the classifier"
   ]
  },
  {
   "cell_type": "code",
   "execution_count": 30,
   "id": "26f26cb0",
   "metadata": {},
   "outputs": [
    {
     "name": "stdout",
     "output_type": "stream",
     "text": [
      "Accuracy: 0.36\n",
      "                 precision    recall  f1-score   support\n",
      "\n",
      "     Challenges       0.00      0.00      0.00         1\n",
      "    Experiments       0.00      0.00      0.00         2\n",
      "Giving Out Cash       0.00      0.00      0.00         1\n",
      "          Other       0.36      1.00      0.53         5\n",
      "       Survival       0.00      0.00      0.00         3\n",
      "   Vs Challenge       0.00      0.00      0.00         2\n",
      "\n",
      "       accuracy                           0.36        14\n",
      "      macro avg       0.06      0.17      0.09        14\n",
      "   weighted avg       0.13      0.36      0.19        14\n",
      "\n"
     ]
    },
    {
     "name": "stderr",
     "output_type": "stream",
     "text": [
      "C:\\Users\\Hp ProBook\\anaconda3\\envs\\learn-env\\Lib\\site-packages\\sklearn\\metrics\\_classification.py:1531: UndefinedMetricWarning: Precision is ill-defined and being set to 0.0 in labels with no predicted samples. Use `zero_division` parameter to control this behavior.\n",
      "  _warn_prf(average, modifier, f\"{metric.capitalize()} is\", len(result))\n",
      "C:\\Users\\Hp ProBook\\anaconda3\\envs\\learn-env\\Lib\\site-packages\\sklearn\\metrics\\_classification.py:1531: UndefinedMetricWarning: Precision is ill-defined and being set to 0.0 in labels with no predicted samples. Use `zero_division` parameter to control this behavior.\n",
      "  _warn_prf(average, modifier, f\"{metric.capitalize()} is\", len(result))\n",
      "C:\\Users\\Hp ProBook\\anaconda3\\envs\\learn-env\\Lib\\site-packages\\sklearn\\metrics\\_classification.py:1531: UndefinedMetricWarning: Precision is ill-defined and being set to 0.0 in labels with no predicted samples. Use `zero_division` parameter to control this behavior.\n",
      "  _warn_prf(average, modifier, f\"{metric.capitalize()} is\", len(result))\n"
     ]
    }
   ],
   "source": [
    "from sklearn.naive_bayes import MultinomialNB\n",
    "from sklearn.metrics import accuracy_score, classification_report\n",
    "\n",
    "# Training the Naive Bayes classifier\n",
    "classifier = MultinomialNB()\n",
    "classifier.fit(X_train_vectorized, y_train)\n",
    "\n",
    "# Making predictions on the test set\n",
    "y_pred = classifier.predict(X_test_vectorized)\n",
    "\n",
    "# Evaluating the model's accuracy\n",
    "accuracy = accuracy_score(y_test, y_pred)\n",
    "print(f'Accuracy: {accuracy:.2f}')\n",
    "print(classification_report(y_test, y_pred))\n"
   ]
  },
  {
   "cell_type": "markdown",
   "id": "5810469b",
   "metadata": {},
   "source": [
    "## Performance Analysis\n",
    "We will analyze how videos perform in each category by comparing view counts, like counts and comment counts. We'll calculate averages or use statistical tests to determine if certain categories perform better than others.\n",
    "\n",
    "### Performance Analysis Code"
   ]
  },
  {
   "cell_type": "code",
   "execution_count": 33,
   "id": "4917f2e8",
   "metadata": {},
   "outputs": [
    {
     "name": "stdout",
     "output_type": "stream",
     "text": [
      "          Category         Views         Likes       Comments\n",
      "0       Challenges  1.397884e+08  3.364834e+06   83152.100000\n",
      "1      Experiments  1.415146e+08  6.809355e+06  225785.333333\n",
      "2  Giving Out Cash  1.617907e+08  4.070540e+06  141808.750000\n",
      "3            Other  2.042618e+08  4.781929e+06  158733.750000\n",
      "4         Survival  1.862104e+08  4.455329e+06  111655.909091\n",
      "5     Vs Challenge  2.415171e+08  5.134792e+06  103430.000000\n"
     ]
    }
   ],
   "source": [
    "# Grouping by category and calculating average metrics\n",
    "performance_analysis = df.groupby('Category').agg({\n",
    "    'Views': 'mean',\n",
    "    'Likes': 'mean',\n",
    "    'Comments': 'mean'\n",
    "}).reset_index()\n",
    "\n",
    "# Display the performance analysis\n",
    "print(performance_analysis)\n"
   ]
  },
  {
   "cell_type": "markdown",
   "id": "af7b0e25",
   "metadata": {},
   "source": [
    "## Visualization\n",
    "Create visualizations to illustrate the distribution of videos across categories and average view/like/comment counts per category.\n"
   ]
  },
  {
   "cell_type": "code",
   "execution_count": 34,
   "id": "8dce1f7a",
   "metadata": {},
   "outputs": [
    {
     "data": {
      "image/png": "[encoded data removed]",
      "text/plain": [
       "<Figure size 1200x600 with 1 Axes>"
      ]
     },
     "metadata": {},
     "output_type": "display_data"
    }
   ],
   "source": [
    "# Plotting the performance analysis\n",
    "performance_analysis.plot(x='Category', kind='bar', figsize=(12, 6))\n",
    "plt.title('Average Performance Metrics by Category')\n",
    "plt.ylabel('Average Counts')\n",
    "plt.xlabel('Category')\n",
    "plt.xticks(rotation=45)\n",
    "plt.show()\n"
   ]
  },
  {
   "cell_type": "markdown",
   "id": "186871b4",
   "metadata": {},
   "source": [
    "# Findings and Conclusions\n",
    "\n",
    "**Category Distribution:**\n",
    "\n",
    "* The `Other` category dominates the classification, indicating a broad range of content that doesn't fit neatly into specific categories.\n",
    "* Following `Other,` the `Survival` and `Challenges` categories also have a significant presence, showcasing Mr. Beast's appeal in these popular formats.\n",
    "\n",
    "**View Count Performance:**\n",
    "\n",
    "* `Vs Challenge` videos have the highest average view counts, suggesting strong viewer interest and engagement in competitive formats.\n",
    "* The `Other` category ranks second in terms of views, indicating diverse content that attracts attention.\n",
    "* Survival videos also perform well, coming in third place in average views, highlighting audience interest in survival scenarios.\n",
    "* Categories like `Giving Out Cash,` `Experiments,` and `Challenges` maintain solid view counts, demonstrating their effectiveness in drawing viewers.\n",
    "\n",
    "**Overall Performance Analysis:**\n",
    "\n",
    "* All categories show a healthy level of performance in terms of views, indicating that Mr. Beast's content strategy effectively engages a wide audience across multiple themes.\n",
    "* Despite high view counts, engagement metrics such as likes and comments are relatively low across all categories, suggesting that while viewers are watching, they may not be as inclined to interact with the content.\n",
    "\n",
    "**Engagement Insights:**\n",
    "\n",
    "* The low levels of likes and comments across all categories may indicate that viewers prefer passive consumption rather than active engagement with the content.\n",
    "* This trend could suggest that Mr. Beast's videos are entertaining enough to attract views but may not encourage further interaction from the audience.\n",
    "\n",
    "**Trends and Recommendations:**\n",
    "\n",
    "* Based on the strong performance of `Vs Challenges` and `Survival` videos, it may be beneficial for Mr. Beast to produce more content in these categories to capitalize on viewer interest.\n",
    "* Exploring ways to enhance audience interaction, such as incorporating more engaging call-to-action prompts or interactive elements in videos, could potentially improve likes and comments.\n",
    "\n",
    "**General Takeaways:**\n",
    "\n",
    "* Mr. Beast's diverse content strategy, evidenced by the dominance of the `Other` category, allows for experimentation and adaptation to audience preferences.\n",
    "* The findings suggest a need for ongoing analysis of audience engagement metrics to better understand viewer behavior and refine content strategies.\n",
    "\n",
    "**Future Content Strategy:**\n",
    "\n",
    "* Focus on creating more `Vs Challenge` and `Survival` videos to leverage their popularity.\n",
    "* Experiment with formats that encourage viewer interaction to boost engagement metrics like likes and comments.\n",
    "* Continue to monitor trends over time to adapt content strategies based on evolving viewer interests and engagement patterns."
   ]
  }
 ],
 "metadata": {
  "kernelspec": {
   "display_name": "Python [conda env:learn-env] *",
   "language": "python",
   "name": "conda-env-learn-env-py"
  },
  "language_info": {
   "codemirror_mode": {
    "name": "ipython",
    "version": 3
   },
   "file_extension": ".py",
   "mimetype": "text/x-python",
   "name": "python",
   "nbconvert_exporter": "python",
   "pygments_lexer": "ipython3",
   "version": "3.11.9"
  }
 },
 "nbformat": 4,
 "nbformat_minor": 5
}
