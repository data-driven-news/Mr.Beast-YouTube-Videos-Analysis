{
 "cells": [
  {
   "cell_type": "markdown",
   "id": "5440943b",
   "metadata": {},
   "source": [
    "# Classifying Mr. Beast YouTube Videos\n",
    "\n",
    "In this project, we will classify Mr. Beast's YouTube videos into specific categories based on their content. The categories we will use are:\n",
    "- **Giving out cash**\n",
    "- **Vs Challeges**\n",
    "- **Challenges**\n",
    "- **Survival**\n",
    "- **Experiments** (for videos that involve extreme scenarios, like \"I Didn’t Eat Food For 30 Days\")\n",
    "- **Giveaways** (for videos specifically about gifting or giving away items, like \"I Built 100 Houses And Gave Them Away!\")\n",
    "- **Contests** (for videos that involve competition without monetary rewards)\n",
    "- **Other** (for videos that don’t fit into the above categories)\n",
    "\n",
    "## Data Loading\n",
    "Let's start by loading the data from the CSV file."
   ]
  },
  {
   "cell_type": "code",
   "execution_count": 1,
   "id": "d735c85d",
   "metadata": {},
   "outputs": [
    {
     "data": {
      "text/html": [
       "<div>\n",
       "<style scoped>\n",
       "    .dataframe tbody tr th:only-of-type {\n",
       "        vertical-align: middle;\n",
       "    }\n",
       "\n",
       "    .dataframe tbody tr th {\n",
       "        vertical-align: top;\n",
       "    }\n",
       "\n",
       "    .dataframe thead th {\n",
       "        text-align: right;\n",
       "    }\n",
       "</style>\n",
       "<table border=\"1\" class=\"dataframe\">\n",
       "  <thead>\n",
       "    <tr style=\"text-align: right;\">\n",
       "      <th></th>\n",
       "      <th>Title</th>\n",
       "      <th>Description</th>\n",
       "      <th>Likes</th>\n",
       "      <th>Comments</th>\n",
       "      <th>Views</th>\n",
       "      <th>URL</th>\n",
       "      <th>Length</th>\n",
       "    </tr>\n",
       "  </thead>\n",
       "  <tbody>\n",
       "    <tr>\n",
       "      <th>0</th>\n",
       "      <td>7 Days Exploring An Underground City</td>\n",
       "      <td>This salt mine is the coolest underground city...</td>\n",
       "      <td>2561697</td>\n",
       "      <td>24777</td>\n",
       "      <td>74099527</td>\n",
       "      <td>https://www.youtube.com/watch?v=bn0Kh9c4Zv4</td>\n",
       "      <td>0:20:35</td>\n",
       "    </tr>\n",
       "    <tr>\n",
       "      <th>1</th>\n",
       "      <td>Men Vs Women Survive The Wilderness For $500,000</td>\n",
       "      <td>Some of these strategies were wild!\\nWet thing...</td>\n",
       "      <td>3587387</td>\n",
       "      <td>48047</td>\n",
       "      <td>119064843</td>\n",
       "      <td>https://www.youtube.com/watch?v=aRcUVhVlSHg</td>\n",
       "      <td>0:31:47</td>\n",
       "    </tr>\n",
       "    <tr>\n",
       "      <th>2</th>\n",
       "      <td>7 Days Stranded In A Cave</td>\n",
       "      <td>I didn’t think surviving in a cave would be th...</td>\n",
       "      <td>4231120</td>\n",
       "      <td>96130</td>\n",
       "      <td>122136852</td>\n",
       "      <td>https://www.youtube.com/watch?v=ndAQfTzlVjc</td>\n",
       "      <td>0:17:58</td>\n",
       "    </tr>\n",
       "    <tr>\n",
       "      <th>3</th>\n",
       "      <td>Survive 100 Days In Nuclear Bunker, Win $500,000</td>\n",
       "      <td>This video was really fun to make, I hope you ...</td>\n",
       "      <td>5361910</td>\n",
       "      <td>85548</td>\n",
       "      <td>200366321</td>\n",
       "      <td>https://www.youtube.com/watch?v=UPrkC1LdlLY</td>\n",
       "      <td>0:32:20</td>\n",
       "    </tr>\n",
       "    <tr>\n",
       "      <th>4</th>\n",
       "      <td>50 YouTubers Fight For $1,000,000</td>\n",
       "      <td>I can’t believe how intense this video got\\nTh...</td>\n",
       "      <td>8771975</td>\n",
       "      <td>350874</td>\n",
       "      <td>260992579</td>\n",
       "      <td>https://www.youtube.com/watch?v=4SNThp0YiU4</td>\n",
       "      <td>0:41:27</td>\n",
       "    </tr>\n",
       "  </tbody>\n",
       "</table>\n",
       "</div>"
      ],
      "text/plain": [
       "                                              Title  \\\n",
       "0              7 Days Exploring An Underground City   \n",
       "1  Men Vs Women Survive The Wilderness For $500,000   \n",
       "2                         7 Days Stranded In A Cave   \n",
       "3  Survive 100 Days In Nuclear Bunker, Win $500,000   \n",
       "4                 50 YouTubers Fight For $1,000,000   \n",
       "\n",
       "                                         Description    Likes  Comments  \\\n",
       "0  This salt mine is the coolest underground city...  2561697     24777   \n",
       "1  Some of these strategies were wild!\\nWet thing...  3587387     48047   \n",
       "2  I didn’t think surviving in a cave would be th...  4231120     96130   \n",
       "3  This video was really fun to make, I hope you ...  5361910     85548   \n",
       "4  I can’t believe how intense this video got\\nTh...  8771975    350874   \n",
       "\n",
       "       Views                                          URL   Length  \n",
       "0   74099527  https://www.youtube.com/watch?v=bn0Kh9c4Zv4  0:20:35  \n",
       "1  119064843  https://www.youtube.com/watch?v=aRcUVhVlSHg  0:31:47  \n",
       "2  122136852  https://www.youtube.com/watch?v=ndAQfTzlVjc  0:17:58  \n",
       "3  200366321  https://www.youtube.com/watch?v=UPrkC1LdlLY  0:32:20  \n",
       "4  260992579  https://www.youtube.com/watch?v=4SNThp0YiU4  0:41:27  "
      ]
     },
     "execution_count": 1,
     "metadata": {},
     "output_type": "execute_result"
    }
   ],
   "source": [
    "import pandas as pd\n",
    "\n",
    "# Load the data\n",
    "df = pd.read_csv('mrbeast_videos1.csv')\n",
    "\n",
    "# Display the first few rows of the dataframe\n",
    "df.head()\n"
   ]
  },
  {
   "cell_type": "markdown",
   "id": "7a401e95",
   "metadata": {},
   "source": [
    "## Data Exploration\n",
    "Now, let's explore the dataset to understand its structure and contents.\n"
   ]
  },
  {
   "cell_type": "code",
   "execution_count": 2,
   "id": "6a4e9268",
   "metadata": {},
   "outputs": [
    {
     "data": {
      "text/plain": [
       "((68, 7),\n",
       " Index(['Title', 'Description', 'Likes', 'Comments', 'Views', 'URL', 'Length'], dtype='object'))"
      ]
     },
     "execution_count": 2,
     "metadata": {},
     "output_type": "execute_result"
    }
   ],
   "source": [
    "# Display the shape and columns of the dataframe\n",
    "df.shape, df.columns"
   ]
  },
  {
   "cell_type": "markdown",
   "id": "e41089d6",
   "metadata": {},
   "source": [
    "## Data Preprocessing\n",
    "We will need to preprocess the data, particularly the 'Title' and 'Description' columns, to prepare them for classification. This may involve text cleaning, tokenization and more.\n",
    "\n",
    "Let's define a function to clean the text.\n"
   ]
  },
  {
   "cell_type": "code",
   "execution_count": 3,
   "id": "e07d51fd",
   "metadata": {},
   "outputs": [
    {
     "data": {
      "text/html": [
       "<div>\n",
       "<style scoped>\n",
       "    .dataframe tbody tr th:only-of-type {\n",
       "        vertical-align: middle;\n",
       "    }\n",
       "\n",
       "    .dataframe tbody tr th {\n",
       "        vertical-align: top;\n",
       "    }\n",
       "\n",
       "    .dataframe thead th {\n",
       "        text-align: right;\n",
       "    }\n",
       "</style>\n",
       "<table border=\"1\" class=\"dataframe\">\n",
       "  <thead>\n",
       "    <tr style=\"text-align: right;\">\n",
       "      <th></th>\n",
       "      <th>Cleaned_Title</th>\n",
       "      <th>Cleaned_Description</th>\n",
       "    </tr>\n",
       "  </thead>\n",
       "  <tbody>\n",
       "    <tr>\n",
       "      <th>0</th>\n",
       "      <td>7 Days Exploring An Underground City</td>\n",
       "      <td>This salt mine is the coolest underground city...</td>\n",
       "    </tr>\n",
       "    <tr>\n",
       "      <th>1</th>\n",
       "      <td>Men Vs Women Survive The Wilderness For 500000</td>\n",
       "      <td>Some of these strategies were wild Wet things ...</td>\n",
       "    </tr>\n",
       "    <tr>\n",
       "      <th>2</th>\n",
       "      <td>7 Days Stranded In A Cave</td>\n",
       "      <td>I didnt think surviving in a cave would be tha...</td>\n",
       "    </tr>\n",
       "    <tr>\n",
       "      <th>3</th>\n",
       "      <td>Survive 100 Days In Nuclear Bunker Win 500000</td>\n",
       "      <td>This video was really fun to make I hope you e...</td>\n",
       "    </tr>\n",
       "    <tr>\n",
       "      <th>4</th>\n",
       "      <td>50 YouTubers Fight For 1000000</td>\n",
       "      <td>I cant believe how intense this video got The ...</td>\n",
       "    </tr>\n",
       "  </tbody>\n",
       "</table>\n",
       "</div>"
      ],
      "text/plain": [
       "                                    Cleaned_Title  \\\n",
       "0            7 Days Exploring An Underground City   \n",
       "1  Men Vs Women Survive The Wilderness For 500000   \n",
       "2                       7 Days Stranded In A Cave   \n",
       "3   Survive 100 Days In Nuclear Bunker Win 500000   \n",
       "4                  50 YouTubers Fight For 1000000   \n",
       "\n",
       "                                 Cleaned_Description  \n",
       "0  This salt mine is the coolest underground city...  \n",
       "1  Some of these strategies were wild Wet things ...  \n",
       "2  I didnt think surviving in a cave would be tha...  \n",
       "3  This video was really fun to make I hope you e...  \n",
       "4  I cant believe how intense this video got The ...  "
      ]
     },
     "execution_count": 3,
     "metadata": {},
     "output_type": "execute_result"
    }
   ],
   "source": [
    "import re\n",
    "\n",
    "def clean_text(text):\n",
    "    \"\"\"Clean the input text by removing special characters and extra spaces.\"\"\"\n",
    "    text = re.sub(r'[^a-zA-Z0-9\\s]', '', text)  # Remove punctuation\n",
    "    text = re.sub(r'\\s+', ' ', text).strip()    # Remove extra spaces\n",
    "    return text\n",
    "\n",
    "# Apply the cleaning function to the Title and Description\n",
    "df['Cleaned_Title'] = df['Title'].apply(clean_text)\n",
    "df['Cleaned_Description'] = df['Description'].apply(clean_text)\n",
    "\n",
    "# Display the cleaned data\n",
    "df[['Cleaned_Title', 'Cleaned_Description']].head()\n"
   ]
  },
  {
   "cell_type": "markdown",
   "id": "6bd45057",
   "metadata": {},
   "source": [
    "## Classification Logic\n",
    "We will classify the videos based on keywords in the cleaned titles and descriptions. Let's define a function to classify the videos.\n"
   ]
  },
  {
   "cell_type": "code",
   "execution_count": 27,
   "id": "32a1c600",
   "metadata": {},
   "outputs": [
    {
     "data": {
      "text/html": [
       "<div>\n",
       "<style scoped>\n",
       "    .dataframe tbody tr th:only-of-type {\n",
       "        vertical-align: middle;\n",
       "    }\n",
       "\n",
       "    .dataframe tbody tr th {\n",
       "        vertical-align: top;\n",
       "    }\n",
       "\n",
       "    .dataframe thead th {\n",
       "        text-align: right;\n",
       "    }\n",
       "</style>\n",
       "<table border=\"1\" class=\"dataframe\">\n",
       "  <thead>\n",
       "    <tr style=\"text-align: right;\">\n",
       "      <th></th>\n",
       "      <th>Title</th>\n",
       "      <th>Category</th>\n",
       "    </tr>\n",
       "  </thead>\n",
       "  <tbody>\n",
       "    <tr>\n",
       "      <th>0</th>\n",
       "      <td>7 Days Exploring An Underground City</td>\n",
       "      <td>Survival</td>\n",
       "    </tr>\n",
       "    <tr>\n",
       "      <th>1</th>\n",
       "      <td>Men Vs Women Survive The Wilderness For $500,000</td>\n",
       "      <td>Vs Challenge</td>\n",
       "    </tr>\n",
       "    <tr>\n",
       "      <th>2</th>\n",
       "      <td>7 Days Stranded In A Cave</td>\n",
       "      <td>Survival</td>\n",
       "    </tr>\n",
       "    <tr>\n",
       "      <th>3</th>\n",
       "      <td>Survive 100 Days In Nuclear Bunker, Win $500,000</td>\n",
       "      <td>Challenges</td>\n",
       "    </tr>\n",
       "    <tr>\n",
       "      <th>4</th>\n",
       "      <td>50 YouTubers Fight For $1,000,000</td>\n",
       "      <td>Other</td>\n",
       "    </tr>\n",
       "  </tbody>\n",
       "</table>\n",
       "</div>"
      ],
      "text/plain": [
       "                                              Title      Category\n",
       "0              7 Days Exploring An Underground City      Survival\n",
       "1  Men Vs Women Survive The Wilderness For $500,000  Vs Challenge\n",
       "2                         7 Days Stranded In A Cave      Survival\n",
       "3  Survive 100 Days In Nuclear Bunker, Win $500,000    Challenges\n",
       "4                 50 YouTubers Fight For $1,000,000         Other"
      ]
     },
     "execution_count": 27,
     "metadata": {},
     "output_type": "execute_result"
    }
   ],
   "source": [
    "def classify_video(title, description):\n",
    "    \"\"\"Classify the video based on title and description.\"\"\"\n",
    "    title = title.lower()\n",
    "    description = description.lower()\n",
    "\n",
    "    # Check for \"vs\" scenarios\n",
    "    if 'vs' in title or 'vs' in description:\n",
    "        return 'Vs Challenge'\n",
    "    \n",
    "    # Keyword-based classification for cash giveaways\n",
    "    if any(keyword in title or keyword in description for keyword in [\n",
    "        'cash', 'win money', 'cash prize', 'giveaway', 'contest', 'prize money', '$']):\n",
    "        return 'Giving Out Cash'\n",
    "    \n",
    "    elif any(keyword in title or keyword in description for keyword in [\n",
    "        'challenge', 'challenges', 'extreme hide and seek', 'last to leave', 'last to stop', 'protect']):\n",
    "        return 'Challenges'\n",
    "    \n",
    "    # Survival classification\n",
    "    elif any(keyword in title or keyword in description for keyword in [\n",
    "        'survive', 'survival', 'stranded', 'day', 'days', 'hours']):\n",
    "        return 'Survival'\n",
    "    \n",
    "    elif any(keyword in title or keyword in description for keyword in [\n",
    "        'built', 'made', 'experiment', 'test']):\n",
    "        return 'Experiments'\n",
    "    \n",
    "    elif 'giveaway' in title or 'giveaway' in description:\n",
    "        return 'Giveaways'\n",
    "    \n",
    "    elif 'contest' in title or 'competition' in description:\n",
    "        return 'Contests'\n",
    "    \n",
    "    else:\n",
    "        return 'Other'\n",
    "\n",
    "# Apply the classification function\n",
    "df['Category'] = df.apply(lambda row: classify_video(row['Cleaned_Title'], row['Cleaned_Description']), axis=1)\n",
    "\n",
    "# Display the categorized data\n",
    "df[['Title', 'Category']].head()\n"
   ]
  },
  {
   "cell_type": "markdown",
   "id": "78972fae",
   "metadata": {},
   "source": [
    "## Results\n",
    "Let's look at the distribution of the categories."
   ]
  },
  {
   "cell_type": "code",
   "execution_count": 28,
   "id": "bb5bc654",
   "metadata": {},
   "outputs": [
    {
     "data": {
      "image/png": "[encoded data removed]",
      "text/plain": [
       "<Figure size 1000x600 with 1 Axes>"
      ]
     },
     "metadata": {},
     "output_type": "display_data"
    }
   ],
   "source": [
    "# Count the occurrences of each category\n",
    "category_counts = df['Category'].value_counts()\n",
    "\n",
    "# Plotting the results\n",
    "import matplotlib.pyplot as plt\n",
    "\n",
    "plt.figure(figsize=(10, 6))\n",
    "category_counts.plot(kind='bar')\n",
    "plt.title('Distribution of Video Categories')\n",
    "plt.xlabel('Category')\n",
    "plt.ylabel('Number of Videos')\n",
    "plt.xticks(rotation=45)\n",
    "plt.show()\n"
   ]
  },
  {
   "cell_type": "code",
   "execution_count": null,
   "id": "9490b001",
   "metadata": {},
   "outputs": [],
   "source": []
  }
 ],
 "metadata": {
  "kernelspec": {
   "display_name": "Python [conda env:learn-env] *",
   "language": "python",
   "name": "conda-env-learn-env-py"
  },
  "language_info": {
   "codemirror_mode": {
    "name": "ipython",
    "version": 3
   },
   "file_extension": ".py",
   "mimetype": "text/x-python",
   "name": "python",
   "nbconvert_exporter": "python",
   "pygments_lexer": "ipython3",
   "version": "3.11.9"
  }
 },
 "nbformat": 4,
 "nbformat_minor": 5
}
